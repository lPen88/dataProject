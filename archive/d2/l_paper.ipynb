{
 "cells": [
  {
   "cell_type": "code",
   "execution_count": null,
   "id": "32cec530",
   "metadata": {},
   "outputs": [
    {
     "name": "stdout",
     "output_type": "stream",
     "text": [
      "   Age Sex  Exercise Hours Per Week  Sedentary Hours Per Day        BMI  \\\n",
      "0   67   1                 4.168189                 6.615001  31.251233   \n",
      "1   21   1                 1.813242                 4.963459  27.194973   \n",
      "2   21   0                 2.078353                 9.463426  28.176571   \n",
      "3   84   1                 9.828130                 7.648981  36.464704   \n",
      "4   66   1                 5.804299                 1.514821  21.809144   \n",
      "\n",
      "   Smoking  Obesity  Alcohol Consumption  \n",
      "0        1        0                    0  \n",
      "1        1        1                    1  \n",
      "2        0        0                    0  \n",
      "3        1        0                    1  \n",
      "4        1        1                    0  \n"
     ]
    },
    {
     "name": "stderr",
     "output_type": "stream",
     "text": [
      "C:\\Users\\Astolfo\\AppData\\Local\\Temp\\ipykernel_2216\\4293785538.py:15: SettingWithCopyWarning: \n",
      "A value is trying to be set on a copy of a slice from a DataFrame.\n",
      "Try using .loc[row_indexer,col_indexer] = value instead\n",
      "\n",
      "See the caveats in the documentation: https://pandas.pydata.org/pandas-docs/stable/user_guide/indexing.html#returning-a-view-versus-a-copy\n",
      "  X['Obesity'] = ((X['BMI'] > 30) & (X['Exercise Hours Per Week'] <= 8)).astype(int)\n"
     ]
    },
    {
     "data": {
      "image/png": "[encoded data removed]",
      "text/plain": [
       "<Figure size 800x600 with 1 Axes>"
      ]
     },
     "metadata": {},
     "output_type": "display_data"
    }
   ],
   "source": [
    "import pandas as pd\n",
    "import matplotlib.pyplot as plt\n",
    "\n",
    "df = pd.read_csv('dataset/dataset_l_fix.csv')\n",
    "\n",
    "df = df[df['Sleep Hours Per Day'] != 0]\n",
    "df.loc[:, 'Sex'] = df['Sex'].map({'Male': 1, 'Female': 0})\n",
    "df.loc[:, 'Diet'] = df['Diet'].map({'Unhealthy': 0, 'Average': 1, 'Healthy': 2})\n",
    "\n",
    "Y=df['Heart Attack Risk']\n",
    "\n",
    "X=df[['Age', 'Sex', 'Exercise Hours Per Week', 'Sedentary Hours Per Day', 'BMI', 'Smoking', 'Obesity', 'Alcohol Consumption']]\n",
    "\n",
    "X['Obesity'] = ((X['BMI'] > 30) & (X['Exercise Hours Per Week'] <= 8)).astype(int)\n",
    "\n",
    "plt.figure(figsize=(8, 6))\n",
    "plt.scatter(X['BMI'], X['Obesity'], alpha=0.5)\n",
    "plt.xlabel('BMI')\n",
    "plt.ylabel('Obesity')\n",
    "plt.title('Scatterplot of BMI vs Obesity')\n",
    "plt.show()"
   ]
  },
  {
   "cell_type": "code",
   "execution_count": 27,
   "id": "b57f5ee6",
   "metadata": {},
   "outputs": [
    {
     "name": "stdout",
     "output_type": "stream",
     "text": [
      "Random Forest\n",
      "train set\n",
      "[[3888  611]\n",
      " [1123 3376]]\n",
      "              precision    recall  f1-score   support\n",
      "\n",
      "           0       0.78      0.86      0.82      4499\n",
      "           1       0.85      0.75      0.80      4499\n",
      "\n",
      "    accuracy                           0.81      8998\n",
      "   macro avg       0.81      0.81      0.81      8998\n",
      "weighted avg       0.81      0.81      0.81      8998\n",
      "\n",
      "test set\n",
      "[[838 287]\n",
      " [465 163]]\n",
      "              precision    recall  f1-score   support\n",
      "\n",
      "           0       0.64      0.74      0.69      1125\n",
      "           1       0.36      0.26      0.30       628\n",
      "\n",
      "    accuracy                           0.57      1753\n",
      "   macro avg       0.50      0.50      0.50      1753\n",
      "weighted avg       0.54      0.57      0.55      1753\n",
      "\n"
     ]
    }
   ],
   "source": [
    "from imblearn.over_sampling import SMOTE\n",
    "\n",
    "from sklearn.model_selection import train_test_split\n",
    "from sklearn.ensemble import RandomForestClassifier\n",
    "from sklearn.metrics import confusion_matrix, classification_report\n",
    "\n",
    "smote = SMOTE()\n",
    "X_train, X_test, Y_train, Y_test = train_test_split(X, Y, test_size=0.2, random_state=42)\n",
    "X_train_smote, Y_train_smote = smote.fit_resample(X_train, Y_train)\n",
    "\n",
    "rf = RandomForestClassifier(n_estimators=250, max_depth=12, min_samples_split=4, min_samples_leaf=2, random_state=42)\n",
    "\n",
    "\n",
    "rf.fit(X_train_smote, Y_train_smote)\n",
    "\n",
    "print('Random Forest')\n",
    "print('train set')\n",
    "print(confusion_matrix(Y_train_smote, rf.predict(X_train_smote)))\n",
    "print(classification_report(Y_train_smote, rf.predict(X_train_smote)))\n",
    "print('test set')\n",
    "print(confusion_matrix(Y_test, rf.predict(X_test)))\n",
    "print(classification_report(Y_test, rf.predict(X_test)))"
   ]
  }
 ],
 "metadata": {
  "kernelspec": {
   "display_name": "Python 3",
   "language": "python",
   "name": "python3"
  },
  "language_info": {
   "codemirror_mode": {
    "name": "ipython",
    "version": 3
   },
   "file_extension": ".py",
   "mimetype": "text/x-python",
   "name": "python",
   "nbconvert_exporter": "python",
   "pygments_lexer": "ipython3",
   "version": "3.12.4"
  }
 },
 "nbformat": 4,
 "nbformat_minor": 5
}
